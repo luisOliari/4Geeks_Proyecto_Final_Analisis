{
 "cells": [
  {
   "cell_type": "markdown",
   "metadata": {},
   "source": [
    "class_weight balanced"
   ]
  },
  {
   "cell_type": "markdown",
   "metadata": {},
   "source": [
    "***Arrhythmia on ECG Classification***"
   ]
  },
  {
   "cell_type": "code",
   "execution_count": 21,
   "metadata": {},
   "outputs": [],
   "source": [
    "# importar las librerias:\n",
    "from sklearn.svm import SVC\n",
    "from sklearn.ensemble import RandomForestClassifier\n",
    "from sklearn.model_selection import train_test_split, cross_val_score\n",
    "from sklearn.metrics import classification_report, accuracy_score, confusion_matrix\n",
    "import numpy as np\n",
    "import pandas as pd\n",
    "import random\n",
    "import seaborn as sns\n",
    "import matplotlib.pyplot as plt\n",
    "from sklearn.metrics import classification_report\n",
    "from sklearn.model_selection import train_test_split\n",
    "from sklearn.metrics import f1_score\n",
    "from sklearn.metrics import confusion_matrix\n",
    "from keras.utils.np_utils import to_categorical\n",
    "from sklearn.utils import class_weight\n",
    "import warnings\n",
    "from imblearn.over_sampling import SMOTE\n",
    "import imblearn\n",
    "from sklearn.model_selection import GridSearchCV, StratifiedKFold\n",
    "from sklearn.model_selection import RandomizedSearchCV\n",
    "\n",
    "warnings.filterwarnings('ignore')\n"
   ]
  },
  {
   "cell_type": "code",
   "execution_count": 22,
   "metadata": {},
   "outputs": [],
   "source": [
    "# carga de los dataset:\n",
    "train_df=pd.read_csv('mitbih_train.csv',header=None)\n",
    "test_df=pd.read_csv('mitbih_test.csv',header=None)"
   ]
  },
  {
   "cell_type": "code",
   "execution_count": 23,
   "metadata": {},
   "outputs": [],
   "source": [
    "# Dataset desvalanceados: \n",
    "X_train=train_df.iloc[:,:-1]\n",
    "y_train=train_df.iloc[:,-1]"
   ]
  },
  {
   "cell_type": "code",
   "execution_count": 24,
   "metadata": {},
   "outputs": [],
   "source": [
    "X_test=test_df.iloc[:,:-1]\n",
    "y_test=test_df.iloc[:,-1]"
   ]
  },
  {
   "cell_type": "code",
   "execution_count": 25,
   "metadata": {},
   "outputs": [
    {
     "name": "stdout",
     "output_type": "stream",
     "text": [
      "(87554, 187)\n",
      "(87554,)\n",
      "(21892, 187)\n",
      "(21892,)\n"
     ]
    }
   ],
   "source": [
    "print(X_train.shape)\n",
    "print(y_train.shape)\n",
    "print(X_test.shape)\n",
    "print(y_test.shape)\n"
   ]
  },
  {
   "cell_type": "markdown",
   "metadata": {},
   "source": [
    "**1.Random Forest**"
   ]
  },
  {
   "cell_type": "markdown",
   "metadata": {},
   "source": [
    "***1.4 Class Weight RandomSearchCV datos totales ***"
   ]
  },
  {
   "cell_type": "code",
   "execution_count": 26,
   "metadata": {},
   "outputs": [
    {
     "name": "stdout",
     "output_type": "stream",
     "text": [
      "{'class_weight': [{0: 0.1, 1: 1.0, 2: 1.0, 3: 10.0, 4: 1.0}, {0: 0.2, 1: 2.0, 2: 2.0, 3: 20.0, 4: 2.0}, {0: 0.30000000000000004, 1: 3.0000000000000004, 2: 3.0000000000000004, 3: 30.000000000000004, 4: 3.0000000000000004}, {0: 0.4, 1: 4.0, 2: 4.0, 3: 40.0, 4: 4.0}, {0: 0.5, 1: 5.0, 2: 5.0, 3: 50.0, 4: 5.0}, {0: 0.6, 1: 6.0, 2: 6.0, 3: 60.0, 4: 6.0}, {0: 0.7000000000000001, 1: 7.000000000000001, 2: 7.000000000000001, 3: 70.0, 4: 7.000000000000001}, {0: 0.8, 1: 8.0, 2: 8.0, 3: 80.0, 4: 8.0}, {0: 0.9, 1: 9.0, 2: 9.0, 3: 90.0, 4: 9.0}, {0: 1.0, 1: 10.0, 2: 10.0, 3: 100.0, 4: 10.0}]}\n"
     ]
    }
   ],
   "source": [
    "#Setting the range for class weights\n",
    "weights = np.linspace(0.1,1.0, 10)\n",
    "random_grid = {'class_weight': [{0:x, 1:10*x, 2:10*x, 3:100*x, 4:10*x} for x in weights]}\n",
    "print(random_grid)"
   ]
  },
  {
   "cell_type": "code",
   "execution_count": 27,
   "metadata": {},
   "outputs": [],
   "source": [
    "rf = RandomForestClassifier(random_state=42)\n",
    "rf_CV=RandomizedSearchCV(estimator=rf, n_iter=30, cv=3, random_state=1107, param_distributions=random_grid)"
   ]
  },
  {
   "cell_type": "code",
   "execution_count": 28,
   "metadata": {},
   "outputs": [
    {
     "data": {
      "text/html": [
       "<style>#sk-container-id-1 {color: black;background-color: white;}#sk-container-id-1 pre{padding: 0;}#sk-container-id-1 div.sk-toggleable {background-color: white;}#sk-container-id-1 label.sk-toggleable__label {cursor: pointer;display: block;width: 100%;margin-bottom: 0;padding: 0.3em;box-sizing: border-box;text-align: center;}#sk-container-id-1 label.sk-toggleable__label-arrow:before {content: \"▸\";float: left;margin-right: 0.25em;color: #696969;}#sk-container-id-1 label.sk-toggleable__label-arrow:hover:before {color: black;}#sk-container-id-1 div.sk-estimator:hover label.sk-toggleable__label-arrow:before {color: black;}#sk-container-id-1 div.sk-toggleable__content {max-height: 0;max-width: 0;overflow: hidden;text-align: left;background-color: #f0f8ff;}#sk-container-id-1 div.sk-toggleable__content pre {margin: 0.2em;color: black;border-radius: 0.25em;background-color: #f0f8ff;}#sk-container-id-1 input.sk-toggleable__control:checked~div.sk-toggleable__content {max-height: 200px;max-width: 100%;overflow: auto;}#sk-container-id-1 input.sk-toggleable__control:checked~label.sk-toggleable__label-arrow:before {content: \"▾\";}#sk-container-id-1 div.sk-estimator input.sk-toggleable__control:checked~label.sk-toggleable__label {background-color: #d4ebff;}#sk-container-id-1 div.sk-label input.sk-toggleable__control:checked~label.sk-toggleable__label {background-color: #d4ebff;}#sk-container-id-1 input.sk-hidden--visually {border: 0;clip: rect(1px 1px 1px 1px);clip: rect(1px, 1px, 1px, 1px);height: 1px;margin: -1px;overflow: hidden;padding: 0;position: absolute;width: 1px;}#sk-container-id-1 div.sk-estimator {font-family: monospace;background-color: #f0f8ff;border: 1px dotted black;border-radius: 0.25em;box-sizing: border-box;margin-bottom: 0.5em;}#sk-container-id-1 div.sk-estimator:hover {background-color: #d4ebff;}#sk-container-id-1 div.sk-parallel-item::after {content: \"\";width: 100%;border-bottom: 1px solid gray;flex-grow: 1;}#sk-container-id-1 div.sk-label:hover label.sk-toggleable__label {background-color: #d4ebff;}#sk-container-id-1 div.sk-serial::before {content: \"\";position: absolute;border-left: 1px solid gray;box-sizing: border-box;top: 0;bottom: 0;left: 50%;z-index: 0;}#sk-container-id-1 div.sk-serial {display: flex;flex-direction: column;align-items: center;background-color: white;padding-right: 0.2em;padding-left: 0.2em;position: relative;}#sk-container-id-1 div.sk-item {position: relative;z-index: 1;}#sk-container-id-1 div.sk-parallel {display: flex;align-items: stretch;justify-content: center;background-color: white;position: relative;}#sk-container-id-1 div.sk-item::before, #sk-container-id-1 div.sk-parallel-item::before {content: \"\";position: absolute;border-left: 1px solid gray;box-sizing: border-box;top: 0;bottom: 0;left: 50%;z-index: -1;}#sk-container-id-1 div.sk-parallel-item {display: flex;flex-direction: column;z-index: 1;position: relative;background-color: white;}#sk-container-id-1 div.sk-parallel-item:first-child::after {align-self: flex-end;width: 50%;}#sk-container-id-1 div.sk-parallel-item:last-child::after {align-self: flex-start;width: 50%;}#sk-container-id-1 div.sk-parallel-item:only-child::after {width: 0;}#sk-container-id-1 div.sk-dashed-wrapped {border: 1px dashed gray;margin: 0 0.4em 0.5em 0.4em;box-sizing: border-box;padding-bottom: 0.4em;background-color: white;}#sk-container-id-1 div.sk-label label {font-family: monospace;font-weight: bold;display: inline-block;line-height: 1.2em;}#sk-container-id-1 div.sk-label-container {text-align: center;}#sk-container-id-1 div.sk-container {/* jupyter's `normalize.less` sets `[hidden] { display: none; }` but bootstrap.min.css set `[hidden] { display: none !important; }` so we also need the `!important` here to be able to override the default hidden behavior on the sphinx rendered scikit-learn.org. See: https://github.com/scikit-learn/scikit-learn/issues/21755 */display: inline-block !important;position: relative;}#sk-container-id-1 div.sk-text-repr-fallback {display: none;}</style><div id=\"sk-container-id-1\" class=\"sk-top-container\"><div class=\"sk-text-repr-fallback\"><pre>RandomizedSearchCV(cv=3, estimator=RandomForestClassifier(random_state=42),\n",
       "                   n_iter=30,\n",
       "                   param_distributions={&#x27;class_weight&#x27;: [{0: 0.1, 1: 1.0,\n",
       "                                                          2: 1.0, 3: 10.0,\n",
       "                                                          4: 1.0},\n",
       "                                                         {0: 0.2, 1: 2.0,\n",
       "                                                          2: 2.0, 3: 20.0,\n",
       "                                                          4: 2.0},\n",
       "                                                         {0: 0.30000000000000004,\n",
       "                                                          1: 3.0000000000000004,\n",
       "                                                          2: 3.0000000000000004,\n",
       "                                                          3: 30.000000000000004,\n",
       "                                                          4: 3.0000000000000004},\n",
       "                                                         {0: 0.4, 1: 4.0,\n",
       "                                                          2: 4.0, 3: 40.0,\n",
       "                                                          4: 4.0},\n",
       "                                                         {0: 0.5, 1: 5.0,\n",
       "                                                          2: 5.0, 3: 50.0,\n",
       "                                                          4: 5.0},\n",
       "                                                         {0: 0.6, 1: 6.0,\n",
       "                                                          2: 6.0, 3: 60.0,\n",
       "                                                          4: 6.0},\n",
       "                                                         {0: 0.7000000000000001,\n",
       "                                                          1: 7.000000000000001,\n",
       "                                                          2: 7.000000000000001,\n",
       "                                                          3: 70.0,\n",
       "                                                          4: 7.000000000000001},\n",
       "                                                         {0: 0.8, 1: 8.0,\n",
       "                                                          2: 8.0, 3: 80.0,\n",
       "                                                          4: 8.0},\n",
       "                                                         {0: 0.9, 1: 9.0,\n",
       "                                                          2: 9.0, 3: 90.0,\n",
       "                                                          4: 9.0},\n",
       "                                                         {0: 1.0, 1: 10.0,\n",
       "                                                          2: 10.0, 3: 100.0,\n",
       "                                                          4: 10.0}]},\n",
       "                   random_state=1107)</pre><b>In a Jupyter environment, please rerun this cell to show the HTML representation or trust the notebook. <br />On GitHub, the HTML representation is unable to render, please try loading this page with nbviewer.org.</b></div><div class=\"sk-container\" hidden><div class=\"sk-item sk-dashed-wrapped\"><div class=\"sk-label-container\"><div class=\"sk-label sk-toggleable\"><input class=\"sk-toggleable__control sk-hidden--visually\" id=\"sk-estimator-id-1\" type=\"checkbox\" ><label for=\"sk-estimator-id-1\" class=\"sk-toggleable__label sk-toggleable__label-arrow\">RandomizedSearchCV</label><div class=\"sk-toggleable__content\"><pre>RandomizedSearchCV(cv=3, estimator=RandomForestClassifier(random_state=42),\n",
       "                   n_iter=30,\n",
       "                   param_distributions={&#x27;class_weight&#x27;: [{0: 0.1, 1: 1.0,\n",
       "                                                          2: 1.0, 3: 10.0,\n",
       "                                                          4: 1.0},\n",
       "                                                         {0: 0.2, 1: 2.0,\n",
       "                                                          2: 2.0, 3: 20.0,\n",
       "                                                          4: 2.0},\n",
       "                                                         {0: 0.30000000000000004,\n",
       "                                                          1: 3.0000000000000004,\n",
       "                                                          2: 3.0000000000000004,\n",
       "                                                          3: 30.000000000000004,\n",
       "                                                          4: 3.0000000000000004},\n",
       "                                                         {0: 0.4, 1: 4.0,\n",
       "                                                          2: 4.0, 3: 40.0,\n",
       "                                                          4: 4.0},\n",
       "                                                         {0: 0.5, 1: 5.0,\n",
       "                                                          2: 5.0, 3: 50.0,\n",
       "                                                          4: 5.0},\n",
       "                                                         {0: 0.6, 1: 6.0,\n",
       "                                                          2: 6.0, 3: 60.0,\n",
       "                                                          4: 6.0},\n",
       "                                                         {0: 0.7000000000000001,\n",
       "                                                          1: 7.000000000000001,\n",
       "                                                          2: 7.000000000000001,\n",
       "                                                          3: 70.0,\n",
       "                                                          4: 7.000000000000001},\n",
       "                                                         {0: 0.8, 1: 8.0,\n",
       "                                                          2: 8.0, 3: 80.0,\n",
       "                                                          4: 8.0},\n",
       "                                                         {0: 0.9, 1: 9.0,\n",
       "                                                          2: 9.0, 3: 90.0,\n",
       "                                                          4: 9.0},\n",
       "                                                         {0: 1.0, 1: 10.0,\n",
       "                                                          2: 10.0, 3: 100.0,\n",
       "                                                          4: 10.0}]},\n",
       "                   random_state=1107)</pre></div></div></div><div class=\"sk-parallel\"><div class=\"sk-parallel-item\"><div class=\"sk-item\"><div class=\"sk-label-container\"><div class=\"sk-label sk-toggleable\"><input class=\"sk-toggleable__control sk-hidden--visually\" id=\"sk-estimator-id-2\" type=\"checkbox\" ><label for=\"sk-estimator-id-2\" class=\"sk-toggleable__label sk-toggleable__label-arrow\">estimator: RandomForestClassifier</label><div class=\"sk-toggleable__content\"><pre>RandomForestClassifier(random_state=42)</pre></div></div></div><div class=\"sk-serial\"><div class=\"sk-item\"><div class=\"sk-estimator sk-toggleable\"><input class=\"sk-toggleable__control sk-hidden--visually\" id=\"sk-estimator-id-3\" type=\"checkbox\" ><label for=\"sk-estimator-id-3\" class=\"sk-toggleable__label sk-toggleable__label-arrow\">RandomForestClassifier</label><div class=\"sk-toggleable__content\"><pre>RandomForestClassifier(random_state=42)</pre></div></div></div></div></div></div></div></div></div></div>"
      ],
      "text/plain": [
       "RandomizedSearchCV(cv=3, estimator=RandomForestClassifier(random_state=42),\n",
       "                   n_iter=30,\n",
       "                   param_distributions={'class_weight': [{0: 0.1, 1: 1.0,\n",
       "                                                          2: 1.0, 3: 10.0,\n",
       "                                                          4: 1.0},\n",
       "                                                         {0: 0.2, 1: 2.0,\n",
       "                                                          2: 2.0, 3: 20.0,\n",
       "                                                          4: 2.0},\n",
       "                                                         {0: 0.30000000000000004,\n",
       "                                                          1: 3.0000000000000004,\n",
       "                                                          2: 3.0000000000000004,\n",
       "                                                          3: 30.000000000000004,\n",
       "                                                          4: 3.0000000000000004},\n",
       "                                                         {0: 0.4, 1: 4.0,\n",
       "                                                          2: 4.0, 3: 40.0,\n",
       "                                                          4: 4.0},\n",
       "                                                         {0: 0.5, 1: 5.0,\n",
       "                                                          2: 5.0, 3: 50.0,\n",
       "                                                          4: 5.0},\n",
       "                                                         {0: 0.6, 1: 6.0,\n",
       "                                                          2: 6.0, 3: 60.0,\n",
       "                                                          4: 6.0},\n",
       "                                                         {0: 0.7000000000000001,\n",
       "                                                          1: 7.000000000000001,\n",
       "                                                          2: 7.000000000000001,\n",
       "                                                          3: 70.0,\n",
       "                                                          4: 7.000000000000001},\n",
       "                                                         {0: 0.8, 1: 8.0,\n",
       "                                                          2: 8.0, 3: 80.0,\n",
       "                                                          4: 8.0},\n",
       "                                                         {0: 0.9, 1: 9.0,\n",
       "                                                          2: 9.0, 3: 90.0,\n",
       "                                                          4: 9.0},\n",
       "                                                         {0: 1.0, 1: 10.0,\n",
       "                                                          2: 10.0, 3: 100.0,\n",
       "                                                          4: 10.0}]},\n",
       "                   random_state=1107)"
      ]
     },
     "execution_count": 28,
     "metadata": {},
     "output_type": "execute_result"
    }
   ],
   "source": [
    "rf_CV.fit(X_train,y_train)"
   ]
  },
  {
   "cell_type": "code",
   "execution_count": 29,
   "metadata": {},
   "outputs": [
    {
     "data": {
      "text/plain": [
       "{'class_weight': {0: 0.6, 1: 6.0, 2: 6.0, 3: 60.0, 4: 6.0}}"
      ]
     },
     "execution_count": 29,
     "metadata": {},
     "output_type": "execute_result"
    }
   ],
   "source": [
    "rf_CV.best_params_"
   ]
  },
  {
   "cell_type": "code",
   "execution_count": 30,
   "metadata": {},
   "outputs": [],
   "source": [
    "y_pred=rf_CV.predict(X_test)"
   ]
  },
  {
   "cell_type": "code",
   "execution_count": 31,
   "metadata": {},
   "outputs": [
    {
     "name": "stdout",
     "output_type": "stream",
     "text": [
      "              precision    recall  f1-score   support\n",
      "\n",
      "         0.0       0.97      1.00      0.99     18118\n",
      "         1.0       0.98      0.59      0.74       556\n",
      "         2.0       0.98      0.88      0.93      1448\n",
      "         3.0       0.81      0.59      0.69       162\n",
      "         4.0       1.00      0.94      0.97      1608\n",
      "\n",
      "    accuracy                           0.97     21892\n",
      "   macro avg       0.95      0.80      0.86     21892\n",
      "weighted avg       0.97      0.97      0.97     21892\n",
      "\n"
     ]
    }
   ],
   "source": [
    "print(classification_report(y_test,y_pred))"
   ]
  },
  {
   "cell_type": "code",
   "execution_count": 32,
   "metadata": {},
   "outputs": [],
   "source": [
    "import pickle\n",
    "# Save the model as a pickle\n",
    "import pickle\n",
    "filename = './modelos/rf_CV.pkl'\n",
    "pickle.dump(rf_CV, open(filename, 'wb'))\n"
   ]
  },
  {
   "cell_type": "code",
   "execution_count": 33,
   "metadata": {},
   "outputs": [],
   "source": [
    "# matriz de confución normalizada:\n",
    "import itertools\n",
    "\n",
    "\n",
    "def plot_confusion_matrix(cm, classes,\n",
    "                          normalize=False,\n",
    "                          title='Confusion matrix',\n",
    "                          cmap=plt.cm.Blues):\n",
    "    \"\"\"\n",
    "    This function prints and plots the confusion matrix.\n",
    "    Normalization can be applied by setting `normalize=True`.\n",
    "    \"\"\"\n",
    "    if normalize:\n",
    "        cm = cm.astype('float') / cm.sum(axis=1)[:, np.newaxis]\n",
    "        print(\"Normalized confusion matrix\")\n",
    "    else:\n",
    "        print('Confusion matrix, without normalization')\n",
    "\n",
    "    plt.imshow(cm, interpolation='nearest', cmap=cmap)\n",
    "    plt.title(title)\n",
    "    plt.colorbar()\n",
    "    tick_marks = np.arange(len(classes))\n",
    "    plt.xticks(tick_marks, classes, rotation=45)\n",
    "    plt.yticks(tick_marks, classes)\n",
    "\n",
    "    fmt = '.2f' if normalize else 'd'\n",
    "    thresh = cm.max() / 2.\n",
    "    for i, j in itertools.product(range(cm.shape[0]), range(cm.shape[1])):\n",
    "        plt.text(j, i, format(cm[i, j], fmt),\n",
    "                 horizontalalignment=\"center\",\n",
    "                 color=\"white\" if cm[i, j] > thresh else \"black\")\n",
    "\n",
    "    plt.tight_layout()\n",
    "    plt.ylabel('True label')\n",
    "    plt.xlabel('Predicted label')\n"
   ]
  },
  {
   "cell_type": "code",
   "execution_count": 34,
   "metadata": {},
   "outputs": [
    {
     "name": "stdout",
     "output_type": "stream",
     "text": [
      "Normalized confusion matrix\n"
     ]
    },
    {
     "data": {
      "image/png": "[encoded data removed]",
      "text/plain": [
       "<Figure size 720x720 with 2 Axes>"
      ]
     },
     "metadata": {
      "needs_background": "light"
     },
     "output_type": "display_data"
    }
   ],
   "source": [
    "# Compute confusion matrix\n",
    "cnf_matrix = confusion_matrix(y_test, y_pred)\n",
    "np.set_printoptions(precision=2)\n",
    "\n",
    "# Plot non-normalized confusion matrix\n",
    "plt.figure(figsize=(10, 10))\n",
    "plot_confusion_matrix(cnf_matrix, classes=['N', 'S', 'V', 'F', 'Q'], normalize=True,\n",
    "                      title='Confusion matrix, with normalization')\n",
    "plt.show()\n"
   ]
  }
 ],
 "metadata": {
  "kernelspec": {
   "display_name": "Python 3.9.7 64-bit",
   "language": "python",
   "name": "python3"
  },
  "language_info": {
   "codemirror_mode": {
    "name": "ipython",
    "version": 3
   },
   "file_extension": ".py",
   "mimetype": "text/x-python",
   "name": "python",
   "nbconvert_exporter": "python",
   "pygments_lexer": "ipython3",
   "version": "3.9.7"
  },
  "orig_nbformat": 4,
  "vscode": {
   "interpreter": {
    "hash": "0ad4c6b7b633209e09bb65622e58b95cdecf44fc8b2c91d4a568b0d933801409"
   }
  }
 },
 "nbformat": 4,
 "nbformat_minor": 2
}
